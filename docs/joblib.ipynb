{
 "cells": [
  {
   "cell_type": "code",
   "execution_count": 3,
   "metadata": {},
   "outputs": [],
   "source": [
    "# Example taken from\n",
    "# https://joblib.readthedocs.io/en/latest/auto_examples/memory_basic_usage.html"
   ]
  },
  {
   "cell_type": "code",
   "execution_count": 4,
   "metadata": {},
   "outputs": [],
   "source": [
    "import joblib"
   ]
  },
  {
   "cell_type": "code",
   "execution_count": 18,
   "metadata": {},
   "outputs": [],
   "source": [
    "from pathlib import Path\n",
    "repo_dir = Path(\"/Users/cgebbe/git/_private/disk_cacher\")"
   ]
  },
  {
   "cell_type": "code",
   "execution_count": 47,
   "metadata": {},
   "outputs": [
    {
     "data": {
      "text/plain": [
       "'hoohoohoohoohoohoohoohoohoohoohoohoo'"
      ]
     },
     "execution_count": 47,
     "metadata": {},
     "output_type": "execute_result"
    }
   ],
   "source": [
    "import time\n",
    "\n",
    "memory = joblib.Memory(repo_dir / \"docs/joblib_cache\", verbose=True)\n",
    "\n",
    "# Changing function signature (add arguments) -> raises IndexError\n",
    "# Changing function code -> recalculated\n",
    "# Changing calling function code -> recalculated!\n",
    "# Changing some comment in code -> recalculated!\n",
    "# Supports ignoring arguments\n",
    "# Supports custom cache validation strategies\n",
    "\n",
    "@memory.cache(verbose=True)\n",
    "def long_func(a: str, b: str):\n",
    "    time.sleep(2)\n",
    "    return a * b * called()\n",
    "\n",
    "def called():\n",
    "    return 4\n",
    "\n",
    "long_func(\"hoo\", 3)"
   ]
  }
 ],
 "metadata": {
  "kernelspec": {
   "display_name": "venv",
   "language": "python",
   "name": "python3"
  },
  "language_info": {
   "codemirror_mode": {
    "name": "ipython",
    "version": 3
   },
   "file_extension": ".py",
   "mimetype": "text/x-python",
   "name": "python",
   "nbconvert_exporter": "python",
   "pygments_lexer": "ipython3",
   "version": "3.9.6"
  }
 },
 "nbformat": 4,
 "nbformat_minor": 2
}
