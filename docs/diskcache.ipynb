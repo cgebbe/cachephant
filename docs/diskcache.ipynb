{
 "cells": [
  {
   "cell_type": "code",
   "execution_count": 10,
   "metadata": {},
   "outputs": [],
   "source": [
    "import diskcache"
   ]
  },
  {
   "cell_type": "code",
   "execution_count": 11,
   "metadata": {},
   "outputs": [],
   "source": [
    "from pathlib import Path\n",
    "repo_path = Path(\"/Users/cgebbe/git/_private/disk_cacher\")"
   ]
  },
  {
   "cell_type": "code",
   "execution_count": 20,
   "metadata": {},
   "outputs": [
    {
     "data": {
      "text/plain": [
       "'hoohoohoohoohoohoohoohoohoohoohoohoo'"
      ]
     },
     "execution_count": 20,
     "metadata": {},
     "output_type": "execute_result"
    }
   ],
   "source": [
    "import time\n",
    "\n",
    "cache = diskcache.Cache(directory=repo_path/\"docs/diskcache_cache\")\n",
    "\n",
    "# Changing function code -> no recalculation\n",
    "# Changing function signature -> no recalculation\n",
    "# Changing function signature (adding arguments) -> no recalculation :/\n",
    "\n",
    "# Changing calling function -> no recalculation\n",
    "# Changing calling function -> no recalculation\n",
    "\n",
    "@cache.memoize(\n",
    "        tag=\"long_func\", # specifying a tag allows to evict SOME cache.\n",
    "        typed=True,\n",
    ")\n",
    "def long_func(a: str, b: int, c: int= 2, d=3):\n",
    "    print(\"calculation\")\n",
    "    time.sleep(2)\n",
    "    return a * b * called() * c\n",
    "\n",
    "def called():\n",
    "    return 3\n",
    "\n",
    "long_func(\"hoo\", 2, c=2)"
   ]
  },
  {
   "cell_type": "code",
   "execution_count": 30,
   "metadata": {},
   "outputs": [
    {
     "name": "stdout",
     "output_type": "stream",
     "text": [
      "calculating\n",
      "barbarbar\n",
      "barbarbar\n",
      "barbarbar\n",
      "barbarbar\n",
      "barbarbar\n"
     ]
    }
   ],
   "source": [
    "import functools\n",
    "\n",
    "# LRU cache only works across one execution.\n",
    "# it does NOT cache across two cell executions.\n",
    "\n",
    "@functools.lru_cache(maxsize=10)\n",
    "def slow_func(a: str, b: int):\n",
    "    print(\"calculating\")\n",
    "    time.sleep(1)\n",
    "    return a*b\n",
    "\n",
    "for _ in range(5):\n",
    "    print(slow_func(\"bar\", 3))"
   ]
  }
 ],
 "metadata": {
  "kernelspec": {
   "display_name": "venv",
   "language": "python",
   "name": "python3"
  },
  "language_info": {
   "codemirror_mode": {
    "name": "ipython",
    "version": 3
   },
   "file_extension": ".py",
   "mimetype": "text/x-python",
   "name": "python",
   "nbconvert_exporter": "python",
   "pygments_lexer": "ipython3",
   "version": "3.11.5"
  }
 },
 "nbformat": 4,
 "nbformat_minor": 2
}
